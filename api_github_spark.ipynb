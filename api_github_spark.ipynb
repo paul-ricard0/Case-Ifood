{
 "cells": [
  {
   "cell_type": "code",
   "execution_count": null,
   "metadata": {
    "application/vnd.databricks.v1+cell": {
     "cellMetadata": {
      "byteLimit": 2048000,
      "rowLimit": 10000
     },
     "inputWidgets": {},
     "nuid": "f8241500-f007-4f9d-9bac-7905452808fa",
     "showTitle": false,
     "title": ""
    }
   },
   "outputs": [],
   "source": [
    "from datetime import datetime\n",
    "import requests\n",
    "from pyspark.sql import SparkSession\n",
    "from pyspark.sql.types import StructType, StructField, StringType, IntegerType\n",
    "# import dotenv\n",
    "# import os\n",
    "# dotenv.load_dotenv()\n",
    "\n",
    "GITHUB_USER = 'USER_AQU'\n",
    "GITHUB_TOKEN = 'SEU_TOKEN_AQUI'\n",
    "HEADERS = { \"Authorization\": f\"token {GITHUB_TOKEN}\"}\n",
    "\n",
    "spark = SparkSession.builder \\\n",
    "    .appName(\"App\") \\\n",
    "    .getOrCreate()"
   ]
  },
  {
   "cell_type": "code",
   "execution_count": null,
   "metadata": {
    "application/vnd.databricks.v1+cell": {
     "cellMetadata": {
      "byteLimit": 2048000,
      "rowLimit": 10000
     },
     "inputWidgets": {},
     "nuid": "b9b2d446-47cd-4ac7-a0c5-08585a48fc05",
     "showTitle": false,
     "title": ""
    }
   },
   "outputs": [],
   "source": [
    "\n",
    "def clean_company(company:str) -> str:\n",
    "    \"\"\"\n",
    "    Remove o caractere '@' do início do nome da empresa, se presente.\n",
    "    \"\"\"\n",
    "    if company and company.startswith('@'):\n",
    "        return company[1:]\n",
    "    return company\n",
    "\n",
    "def transform_date(date_str:str) -> str:\n",
    "    \"\"\"\n",
    "    Transforma uma string de data no formato 'AAAA-MM-DDTHH:MM:SSZ' para o formato 'DD/MM/AAAA'.\n",
    "    \"\"\"\n",
    "    date_obj = datetime.strptime(date_str, '%Y-%m-%dT%H:%M:%SZ')\n",
    "    formatted_date = date_obj.strftime('%d/%m/%Y')\n",
    "    return formatted_date\n",
    "\n",
    "def get_follower_details(followers:list) -> list:\n",
    "    \"\"\"\n",
    "    Obtém detalhes dos seguidores a partir de uma lista de URLs e retorna uma lista de dicionários com os dados.\n",
    "\n",
    "    Args:\n",
    "        followers (list): Uma lista de dicionários contendo informações dos seguidores, incluindo URLs.\n",
    "\n",
    "    Returns:\n",
    "        list: Uma lista de dicionários contendo detalhes dos seguidores.\n",
    "    \"\"\"\n",
    "    user_data = []\n",
    "    for follower in followers:\n",
    "        user_url = follower['url']\n",
    "        response = requests.get(user_url, headers=HEADERS)\n",
    "        if response.status_code == 200:\n",
    "            user_info = response.json()\n",
    "            \n",
    "            print(f\"Request follower: {user_info.get('name')}\")\n",
    "            user_data.append({\n",
    "                'name': user_info.get('name'),\n",
    "                'company': clean_company(user_info.get('company')),\n",
    "                'blog': user_info.get('blog'),\n",
    "                'email': user_info.get('email'),\n",
    "                'bio': user_info.get('bio'),\n",
    "                'public_repos': user_info.get('public_repos'),\n",
    "                'followers': user_info.get('followers'),\n",
    "                'following': user_info.get('following'),\n",
    "                'created_at': transform_date(user_info.get('created_at'))\n",
    "            })\n",
    "        else:\n",
    "            print(\"Erro request em follower\")\n",
    "    return user_data"
   ]
  },
  {
   "cell_type": "code",
   "execution_count": null,
   "metadata": {
    "application/vnd.databricks.v1+cell": {
     "cellMetadata": {
      "byteLimit": 2048000,
      "rowLimit": 10000
     },
     "inputWidgets": {},
     "nuid": "b9c65a45-2123-4921-aa7d-840819f3d2a9",
     "showTitle": false,
     "title": ""
    }
   },
   "outputs": [],
   "source": [
    "\n",
    "# Request 1\n",
    "followers_url = f\"https://api.github.com/users/{GITHUB_USER}/followers\"\n",
    "response = requests.get(followers_url, headers=HEADERS)\n",
    "\n",
    "if response.status_code == 200:\n",
    "    print(f\"Request feito com sucesso em {GITHUB_USER}\")\n",
    "    # Request 2\n",
    "    followers = response.json()\n",
    "    user_data = get_follower_details(followers)\n",
    "\n",
    "    # Defining schema\n",
    "    schema = StructType([\n",
    "        StructField('name', StringType(), True),\n",
    "        StructField('company', StringType(), True),\n",
    "        StructField('blog', StringType(), True),\n",
    "        StructField('email', StringType(), True),\n",
    "        StructField('bio', StringType(), True),\n",
    "        StructField('public_repos', IntegerType(), True),\n",
    "        StructField('followers', IntegerType(), True),\n",
    "        StructField('following', IntegerType(), True),\n",
    "        StructField('created_at', StringType(), True)\n",
    "    ])\n",
    "\n",
    "    spark_df = spark.createDataFrame(user_data, schema=schema)\n",
    "else:\n",
    "    print(f\"Erro ao acessar a API: {response.status_code}\")"
   ]
  },
  {
   "cell_type": "markdown",
   "metadata": {
    "application/vnd.databricks.v1+cell": {
     "cellMetadata": {},
     "inputWidgets": {},
     "nuid": "b7fce236-1db7-4e91-9428-690ef90273e4",
     "showTitle": false,
     "title": ""
    }
   },
   "source": [
    "## Salvando arquivo CSV"
   ]
  },
  {
   "cell_type": "code",
   "execution_count": null,
   "metadata": {
    "application/vnd.databricks.v1+cell": {
     "cellMetadata": {
      "byteLimit": 2048000,
      "rowLimit": 10000
     },
     "inputWidgets": {},
     "nuid": "664ddf08-311a-4bd6-b8b2-478bfd293475",
     "showTitle": false,
     "title": ""
    }
   },
   "outputs": [],
   "source": [
    "file_path = \"/FileStore/tables/github_followers.csv\"\n",
    "spark_df.write.csv(file_path, header=True)"
   ]
  },
  {
   "cell_type": "markdown",
   "metadata": {
    "application/vnd.databricks.v1+cell": {
     "cellMetadata": {},
     "inputWidgets": {},
     "nuid": "dc8dc13b-2718-444d-bd81-91b2aab006a4",
     "showTitle": false,
     "title": ""
    }
   },
   "source": [
    "## Lendo arquivo CSV"
   ]
  },
  {
   "cell_type": "code",
   "execution_count": null,
   "metadata": {
    "application/vnd.databricks.v1+cell": {
     "cellMetadata": {
      "byteLimit": 2048000,
      "rowLimit": 10000
     },
     "inputWidgets": {},
     "nuid": "95b9b8e4-aad6-4f1d-9352-0374ac508e75",
     "showTitle": false,
     "title": ""
    }
   },
   "outputs": [],
   "source": [
    "df = spark.read.csv(file_path, header=True, inferSchema=True)\n",
    "df.show()"
   ]
  }
 ],
 "metadata": {
  "application/vnd.databricks.v1+notebook": {
   "dashboards": [],
   "environmentMetadata": null,
   "language": "python",
   "notebookMetadata": {
    "pythonIndentUnit": 4
   },
   "notebookName": "API_GITHUB",
   "widgets": {}
  },
  "language_info": {
   "name": "python"
  }
 },
 "nbformat": 4,
 "nbformat_minor": 0
}
